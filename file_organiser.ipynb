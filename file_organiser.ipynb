{
 "cells": [
  {
   "cell_type": "code",
   "execution_count": 3,
   "metadata": {},
   "outputs": [],
   "source": [
    "import os\n",
    "import shutil\n",
    "\n",
    "directory = './'\n",
    "file_types = {\n",
    "    'images': ['.jpg', '.jpeg', '.png', 'gif'],\n",
    "    'documents': ['.pdf', '.docx', '.txt'],\n",
    "    'videos': ['mp4', '.mkv', '.flv'],\n",
    "    'audios': ['.mp3', '.wav'],\n",
    "    'archives': ['.zip', '.tar', '.rar'],\n",
    "    'spreadsheets': ['.xls', '.xlsx', '.csv']\n",
    "}"
   ]
  },
  {
   "cell_type": "code",
   "execution_count": 4,
   "metadata": {},
   "outputs": [],
   "source": [
    "def create_folders(base_dir, folders):\n",
    "    for folder in folders:\n",
    "        folder_path = os.path.join(base_dir, folder)\n",
    "        if not os.path.exists(folder_path):\n",
    "            os.makedirs(folder_path)\n",
    "    "
   ]
  },
  {
   "cell_type": "code",
   "execution_count": 10,
   "metadata": {},
   "outputs": [],
   "source": [
    "def organise_files_by_types(base_dir, file_types):\n",
    "    for filename in os.listdir(base_dir):\n",
    "        file_path = os.path.join(base_dir, filename)\n",
    "\n",
    "        if os.path.isdir(file_path):\n",
    "            continue\n",
    "        # check the particular file type and move it to a appropiate foder \n",
    "        file_ext  = os.path.splitext(filename)[1].lower()\n",
    "\n",
    "        for folder, extensions in file_types.items():\n",
    "            if file_ext in extensions:\n",
    "                target_folder = os.path.join(base_dir, folder)\n",
    "                shutil.move(file_path, target_folder)\n",
    "                print(f\"Moved {filename} to {folder}\")\n",
    "                break\n"
   ]
  },
  {
   "cell_type": "code",
   "execution_count": 12,
   "metadata": {},
   "outputs": [],
   "source": [
    "create_folders(directory, file_types.keys())\n",
    "organise_files_by_types(directory, file_types)"
   ]
  }
 ],
 "metadata": {
  "kernelspec": {
   "display_name": "Python 3",
   "language": "python",
   "name": "python3"
  },
  "language_info": {
   "codemirror_mode": {
    "name": "ipython",
    "version": 3
   },
   "file_extension": ".py",
   "mimetype": "text/x-python",
   "name": "python",
   "nbconvert_exporter": "python",
   "pygments_lexer": "ipython3",
   "version": "3.12.6"
  }
 },
 "nbformat": 4,
 "nbformat_minor": 2
}
